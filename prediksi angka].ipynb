{
 "cells": [
  {
   "cell_type": "code",
   "execution_count": 1,
   "metadata": {},
   "outputs": [],
   "source": [
    "from sklearn.datasets import load_digits\n",
    "from sklearn.model_selection import train_test_split\n",
    "from sklearn.metrics import accuracy_score\n",
    "import numpy as np\n",
    "import matplotlib.pyplot as plt\n",
    "from sklearn.neighbors import KNeighborsClassifier #modelnya"
   ]
  },
  {
   "cell_type": "code",
   "execution_count": 2,
   "metadata": {},
   "outputs": [],
   "source": [
    "digits = load_digits()\n",
    "X = digits.data\n",
    "Y = digits.target"
   ]
  },
  {
   "cell_type": "code",
   "execution_count": 10,
   "metadata": {},
   "outputs": [
    {
     "data": {
      "text/plain": [
       "{'data': array([[ 0.,  0.,  5., ...,  0.,  0.,  0.],\n",
       "        [ 0.,  0.,  0., ..., 10.,  0.,  0.],\n",
       "        [ 0.,  0.,  0., ..., 16.,  9.,  0.],\n",
       "        ...,\n",
       "        [ 0.,  0.,  1., ...,  6.,  0.,  0.],\n",
       "        [ 0.,  0.,  2., ..., 12.,  0.,  0.],\n",
       "        [ 0.,  0., 10., ..., 12.,  1.,  0.]]),\n",
       " 'target': array([0, 1, 2, ..., 8, 9, 8]),\n",
       " 'target_names': array([0, 1, 2, 3, 4, 5, 6, 7, 8, 9]),\n",
       " 'images': array([[[ 0.,  0.,  5., ...,  1.,  0.,  0.],\n",
       "         [ 0.,  0., 13., ..., 15.,  5.,  0.],\n",
       "         [ 0.,  3., 15., ..., 11.,  8.,  0.],\n",
       "         ...,\n",
       "         [ 0.,  4., 11., ..., 12.,  7.,  0.],\n",
       "         [ 0.,  2., 14., ..., 12.,  0.,  0.],\n",
       "         [ 0.,  0.,  6., ...,  0.,  0.,  0.]],\n",
       " \n",
       "        [[ 0.,  0.,  0., ...,  5.,  0.,  0.],\n",
       "         [ 0.,  0.,  0., ...,  9.,  0.,  0.],\n",
       "         [ 0.,  0.,  3., ...,  6.,  0.,  0.],\n",
       "         ...,\n",
       "         [ 0.,  0.,  1., ...,  6.,  0.,  0.],\n",
       "         [ 0.,  0.,  1., ...,  6.,  0.,  0.],\n",
       "         [ 0.,  0.,  0., ..., 10.,  0.,  0.]],\n",
       " \n",
       "        [[ 0.,  0.,  0., ..., 12.,  0.,  0.],\n",
       "         [ 0.,  0.,  3., ..., 14.,  0.,  0.],\n",
       "         [ 0.,  0.,  8., ..., 16.,  0.,  0.],\n",
       "         ...,\n",
       "         [ 0.,  9., 16., ...,  0.,  0.,  0.],\n",
       "         [ 0.,  3., 13., ..., 11.,  5.,  0.],\n",
       "         [ 0.,  0.,  0., ..., 16.,  9.,  0.]],\n",
       " \n",
       "        ...,\n",
       " \n",
       "        [[ 0.,  0.,  1., ...,  1.,  0.,  0.],\n",
       "         [ 0.,  0., 13., ...,  2.,  1.,  0.],\n",
       "         [ 0.,  0., 16., ..., 16.,  5.,  0.],\n",
       "         ...,\n",
       "         [ 0.,  0., 16., ..., 15.,  0.,  0.],\n",
       "         [ 0.,  0., 15., ..., 16.,  0.,  0.],\n",
       "         [ 0.,  0.,  2., ...,  6.,  0.,  0.]],\n",
       " \n",
       "        [[ 0.,  0.,  2., ...,  0.,  0.,  0.],\n",
       "         [ 0.,  0., 14., ..., 15.,  1.,  0.],\n",
       "         [ 0.,  4., 16., ..., 16.,  7.,  0.],\n",
       "         ...,\n",
       "         [ 0.,  0.,  0., ..., 16.,  2.,  0.],\n",
       "         [ 0.,  0.,  4., ..., 16.,  2.,  0.],\n",
       "         [ 0.,  0.,  5., ..., 12.,  0.,  0.]],\n",
       " \n",
       "        [[ 0.,  0., 10., ...,  1.,  0.,  0.],\n",
       "         [ 0.,  2., 16., ...,  1.,  0.,  0.],\n",
       "         [ 0.,  0., 15., ..., 15.,  0.,  0.],\n",
       "         ...,\n",
       "         [ 0.,  4., 16., ..., 16.,  6.,  0.],\n",
       "         [ 0.,  8., 16., ..., 16.,  8.,  0.],\n",
       "         [ 0.,  1.,  8., ..., 12.,  1.,  0.]]]),\n",
       " 'DESCR': \".. _digits_dataset:\\n\\nOptical recognition of handwritten digits dataset\\n--------------------------------------------------\\n\\n**Data Set Characteristics:**\\n\\n    :Number of Instances: 5620\\n    :Number of Attributes: 64\\n    :Attribute Information: 8x8 image of integer pixels in the range 0..16.\\n    :Missing Attribute Values: None\\n    :Creator: E. Alpaydin (alpaydin '@' boun.edu.tr)\\n    :Date: July; 1998\\n\\nThis is a copy of the test set of the UCI ML hand-written digits datasets\\nhttps://archive.ics.uci.edu/ml/datasets/Optical+Recognition+of+Handwritten+Digits\\n\\nThe data set contains images of hand-written digits: 10 classes where\\neach class refers to a digit.\\n\\nPreprocessing programs made available by NIST were used to extract\\nnormalized bitmaps of handwritten digits from a preprinted form. From a\\ntotal of 43 people, 30 contributed to the training set and different 13\\nto the test set. 32x32 bitmaps are divided into nonoverlapping blocks of\\n4x4 and the number of on pixels are counted in each block. This generates\\nan input matrix of 8x8 where each element is an integer in the range\\n0..16. This reduces dimensionality and gives invariance to small\\ndistortions.\\n\\nFor info on NIST preprocessing routines, see M. D. Garris, J. L. Blue, G.\\nT. Candela, D. L. Dimmick, J. Geist, P. J. Grother, S. A. Janet, and C.\\nL. Wilson, NIST Form-Based Handprint Recognition System, NISTIR 5469,\\n1994.\\n\\n.. topic:: References\\n\\n  - C. Kaynak (1995) Methods of Combining Multiple Classifiers and Their\\n    Applications to Handwritten Digit Recognition, MSc Thesis, Institute of\\n    Graduate Studies in Science and Engineering, Bogazici University.\\n  - E. Alpaydin, C. Kaynak (1998) Cascading Classifiers, Kybernetika.\\n  - Ken Tang and Ponnuthurai N. Suganthan and Xi Yao and A. Kai Qin.\\n    Linear dimensionalityreduction using relevance weighted LDA. School of\\n    Electrical and Electronic Engineering Nanyang Technological University.\\n    2005.\\n  - Claudio Gentile. A New Approximate Maximal Margin Classification\\n    Algorithm. NIPS. 2000.\"}"
      ]
     },
     "execution_count": 10,
     "metadata": {},
     "output_type": "execute_result"
    }
   ],
   "source": [
    "digits"
   ]
  },
  {
   "cell_type": "code",
   "execution_count": 4,
   "metadata": {},
   "outputs": [
    {
     "data": {
      "text/plain": [
       "(1797,)"
      ]
     },
     "execution_count": 4,
     "metadata": {},
     "output_type": "execute_result"
    }
   ],
   "source": [
    "Y.shape"
   ]
  },
  {
   "cell_type": "code",
   "execution_count": 5,
   "metadata": {},
   "outputs": [],
   "source": [
    "X_train, X_test, Y_train, Y_test = train_test_split(X,Y)"
   ]
  },
  {
   "cell_type": "code",
   "execution_count": 6,
   "metadata": {},
   "outputs": [
    {
     "data": {
      "text/plain": [
       "KNeighborsClassifier(algorithm='auto', leaf_size=30, metric='minkowski',\n",
       "                     metric_params=None, n_jobs=None, n_neighbors=5, p=2,\n",
       "                     weights='uniform')"
      ]
     },
     "execution_count": 6,
     "metadata": {},
     "output_type": "execute_result"
    }
   ],
   "source": [
    "KNN = KNeighborsClassifier()\n",
    "KNN.fit(X_train, Y_train)"
   ]
  },
  {
   "cell_type": "code",
   "execution_count": 7,
   "metadata": {},
   "outputs": [
    {
     "name": "stdout",
     "output_type": "stream",
     "text": [
      "[5 9 3 5 4 4 0 1 9 1 3 3 1 4 2 5 7 6 4 5 8 7 0 9 9 1 7 5 4 6 7 2 9 7 2 7 3\n",
      " 2 7 8 1 0 0 1 2 4 3 4 8 0 0 1 5 2 9 1 5 6 4 3 5 0 2 4 3 1 6 3 0 6 4 1 9 5\n",
      " 6 6 2 1 6 2 8 1 1 7 5 2 0 9 0 0 8 3 7 3 2 5 6 0 5 9 9 3 5 3 0 0 2 3 2 9 9\n",
      " 9 0 9 9 8 5 1 7 6 8 7 5 3 7 3 6 3 0 8 7 2 5 4 6 6 7 0 2 3 3 4 4 0 0 9 2 6\n",
      " 8 9 7 8 4 5 6 5 4 7 7 9 5 1 0 1 2 7 6 3 9 3 4 0 0 3 6 0 5 0 8 9 4 5 2 6 8\n",
      " 3 6 8 0 1 5 2 1 9 3 2 4 1 8 0 1 0 3 0 7 5 5 0 7 7 7 7 6 2 5 4 1 0 7 4 3 3\n",
      " 1 6 2 1 3 0 3 7 9 4 9 9 6 6 0 8 1 8 6 3 3 5 0 8 7 5 8 4 1 0 2 9 6 3 8 6 4\n",
      " 4 3 6 7 0 1 1 6 2 5 3 0 4 5 8 4 1 7 5 3 6 2 3 8 0 6 4 0 7 0 1 9 8 6 1 0 6\n",
      " 4 3 8 9 4 4 6 9 3 1 6 3 9 3 5 4 2 9 8 3 1 8 2 1 2 7 1 9 4 9 5 7 9 8 4 6 5\n",
      " 7 2 3 4 0 1 7 5 9 7 1 9 9 3 9 0 5 4 7 2 0 7 2 2 5 2 3 8 1 6 5 6 6 7 6 4 4\n",
      " 4 1 1 6 1 0 2 5 6 4 6 7 2 2 3 7 0 8 2 5 9 2 8 6 3 9 6 2 1 4 6 9 8 0 0 8 9\n",
      " 0 6 1 9 8 9 0 8 7 5 9 8 1 7 7 3 4 1 5 8 8 0 0 2 0 7 2 0 2 2 7 3 2 4 3 8 6\n",
      " 2 3 9 1 0 0]\n",
      "[5 9 3 5 4 4 0 1 9 1 3 3 1 4 2 5 7 6 4 5 8 7 0 9 9 1 7 5 4 6 7 2 9 7 2 7 3\n",
      " 2 7 8 1 0 0 1 2 4 3 4 8 0 0 8 9 2 9 1 5 6 4 3 5 0 2 4 3 1 6 3 0 6 4 1 9 5\n",
      " 6 6 2 1 6 2 8 1 1 7 5 2 0 9 0 0 8 3 7 3 2 5 6 0 5 9 9 3 5 3 0 0 2 3 2 9 9\n",
      " 9 0 9 9 8 5 1 7 6 8 7 5 3 7 3 6 3 0 8 7 2 5 4 6 6 7 0 2 3 3 4 4 0 0 9 2 6\n",
      " 8 9 7 8 4 5 6 5 4 7 3 9 5 1 0 1 2 7 6 3 9 3 4 0 0 3 6 0 5 0 8 9 4 5 2 6 8\n",
      " 3 6 8 0 1 5 2 1 9 3 2 4 1 8 0 1 0 3 0 7 5 5 0 7 7 7 7 6 2 5 4 1 0 7 4 3 3\n",
      " 1 6 2 1 3 0 3 7 9 4 9 9 6 6 0 8 1 8 6 3 3 5 0 9 7 5 8 4 1 0 2 9 6 3 8 6 4\n",
      " 4 3 6 7 0 1 1 6 2 5 3 0 4 5 8 4 1 7 5 3 6 2 3 8 0 6 4 0 7 0 1 9 8 6 1 0 6\n",
      " 4 3 8 9 4 4 6 9 3 1 6 3 9 3 5 4 2 9 8 3 1 8 2 1 2 7 1 9 4 9 5 7 9 8 4 6 9\n",
      " 7 2 3 4 0 1 7 5 9 3 1 9 9 3 9 0 5 4 7 2 0 7 2 2 5 2 3 8 1 6 5 6 6 7 6 4 4\n",
      " 4 1 1 6 1 0 2 5 6 4 6 7 2 2 3 7 0 8 2 5 9 2 8 6 3 9 6 2 1 4 6 9 8 0 0 8 9\n",
      " 0 6 1 9 8 9 0 8 7 5 9 8 1 7 7 3 4 1 5 9 8 0 0 2 0 7 2 0 2 2 4 3 2 4 3 8 6\n",
      " 2 3 9 1 0 0]\n",
      "Akurasi: 0.9822222222222222\n"
     ]
    }
   ],
   "source": [
    "prediksi = (KNN.predict(X_test))\n",
    "print (prediksi)\n",
    "print (Y_test)\n",
    "print (f\"Akurasi: {accuracy_score(Y_test, prediksi)}\")"
   ]
  },
  {
   "cell_type": "code",
   "execution_count": 11,
   "metadata": {},
   "outputs": [
    {
     "data": {
      "image/png": "[encoded data removed]",
      "text/plain": [
       "<Figure size 504x504 with 16 Axes>"
      ]
     },
     "metadata": {
      "needs_background": "light"
     },
     "output_type": "display_data"
    }
   ],
   "source": [
    "fig = plt.figure(figsize=(7, 7))\n",
    "columns = 4\n",
    "rows = 4\n",
    "ax = []\n",
    "for i in range(columns*rows):\n",
    "    img = X_test[i].reshape(8, 8)\n",
    "    ax.append( fig.add_subplot(rows, columns, i+1) )\n",
    "    prediksi = (KNN.predict(X_test[i].reshape(1, -1)))\n",
    "    ax[-1].set_title(f\"Prediksi: {prediksi}\")\n",
    "    plt.imshow(img, plt.cm.gray_r)\n",
    "plt.tight_layout()\n",
    "plt.show()"
   ]
  },
  {
   "cell_type": "code",
   "execution_count": null,
   "metadata": {},
   "outputs": [],
   "source": []
  }
 ],
 "metadata": {
  "kernelspec": {
   "display_name": "Python 3",
   "language": "python",
   "name": "python3"
  },
  "language_info": {
   "codemirror_mode": {
    "name": "ipython",
    "version": 3
   },
   "file_extension": ".py",
   "mimetype": "text/x-python",
   "name": "python",
   "nbconvert_exporter": "python",
   "pygments_lexer": "ipython3",
   "version": "3.7.3"
  }
 },
 "nbformat": 4,
 "nbformat_minor": 4
}
